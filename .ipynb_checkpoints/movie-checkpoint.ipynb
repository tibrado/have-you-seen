{
 "cells": [
  {
   "cell_type": "code",
   "execution_count": 1,
   "id": "written-shanghai",
   "metadata": {},
   "outputs": [],
   "source": [
    "# Imports \n",
    "import pandas as pd\n",
    "import pyspark as ps\n",
    "import numpy as np\n",
    "from sklearn.metrics import mean_squared_error\n",
    "\n",
    "from pyspark.ml.recommendation import ALS\n",
    "import matplotlib.pyplot as plt\n",
    "\n",
    "%matplotlib inline"
   ]
  },
  {
   "cell_type": "code",
   "execution_count": 2,
   "id": "engaged-brake",
   "metadata": {},
   "outputs": [],
   "source": [
    "movies = pd.read_table('data/movies.dat', delimiter='::', names=['movie', 'name', 'genre'], engine='python')\n",
    "users = pd.read_table('data/users.dat', delimiter='::', names=['user', 'gender',  'age','occupation', 'zip_code'], engine='python')\n",
    "requests = pd.read_csv('data/requests.csv')\n",
    "training = pd.read_csv('data/training.csv')"
   ]
  },
  {
   "cell_type": "code",
   "execution_count": 3,
   "id": "organizational-extra",
   "metadata": {},
   "outputs": [
    {
     "name": "stdout",
     "output_type": "stream",
     "text": [
      "<class 'pandas.core.frame.DataFrame'>\n",
      "RangeIndex: 800000 entries, 0 to 799999\n",
      "Data columns (total 4 columns):\n",
      " #   Column     Non-Null Count   Dtype\n",
      "---  ------     --------------   -----\n",
      " 0   user       800000 non-null  int64\n",
      " 1   movie      800000 non-null  int64\n",
      " 2   rating     800000 non-null  int64\n",
      " 3   timestamp  800000 non-null  int64\n",
      "dtypes: int64(4)\n",
      "memory usage: 24.4 MB\n"
     ]
    }
   ],
   "source": [
    "training.info()"
   ]
  },
  {
   "cell_type": "code",
   "execution_count": 4,
   "id": "legitimate-shopping",
   "metadata": {},
   "outputs": [
    {
     "data": {
      "image/png": "[encoded data removed]",
      "text/plain": [
       "<Figure size 864x288 with 2 Axes>"
      ]
     },
     "metadata": {
      "needs_background": "light"
     },
     "output_type": "display_data"
    }
   ],
   "source": [
    "fig, axs = plt.subplots(1, 2, figsize = (12, 4))\n",
    "columns = ['user', 'movie']\n",
    "\n",
    "for i, ax in enumerate(axs.flatten()):\n",
    "    ax.hist(training[columns[i]])\n",
    "    ax.set_xlabel(columns[i])\n",
    "    ax.set_ylabel('freq')\n",
    "    \n",
    "    unique = len(training[columns[i]].unique())\n",
    "    ax.set_title(f'{unique} unique {columns[i]}')\n",
    "\n",
    "plt.tight_layout()"
   ]
  },
  {
   "cell_type": "code",
   "execution_count": 5,
   "id": "aging-press",
   "metadata": {},
   "outputs": [
    {
     "data": {
      "text/html": [
       "<div>\n",
       "<style scoped>\n",
       "    .dataframe tbody tr th:only-of-type {\n",
       "        vertical-align: middle;\n",
       "    }\n",
       "\n",
       "    .dataframe tbody tr th {\n",
       "        vertical-align: top;\n",
       "    }\n",
       "\n",
       "    .dataframe thead th {\n",
       "        text-align: right;\n",
       "    }\n",
       "</style>\n",
       "<table border=\"1\" class=\"dataframe\">\n",
       "  <thead>\n",
       "    <tr style=\"text-align: right;\">\n",
       "      <th></th>\n",
       "      <th>user</th>\n",
       "      <th>movie</th>\n",
       "      <th>rating</th>\n",
       "      <th>timestamp</th>\n",
       "    </tr>\n",
       "  </thead>\n",
       "  <tbody>\n",
       "    <tr>\n",
       "      <th>min</th>\n",
       "      <td>636.0</td>\n",
       "      <td>1.0</td>\n",
       "      <td>1.0</td>\n",
       "      <td>956703932.0</td>\n",
       "    </tr>\n",
       "    <tr>\n",
       "      <th>max</th>\n",
       "      <td>6040.0</td>\n",
       "      <td>3952.0</td>\n",
       "      <td>5.0</td>\n",
       "      <td>975767289.0</td>\n",
       "    </tr>\n",
       "  </tbody>\n",
       "</table>\n",
       "</div>"
      ],
      "text/plain": [
       "       user   movie  rating    timestamp\n",
       "min   636.0     1.0     1.0  956703932.0\n",
       "max  6040.0  3952.0     5.0  975767289.0"
      ]
     },
     "execution_count": 5,
     "metadata": {},
     "output_type": "execute_result"
    }
   ],
   "source": [
    "# See how user with most watched movies \n",
    "training.describe().iloc[[3,-1]]"
   ]
  },
  {
   "cell_type": "code",
   "execution_count": 6,
   "id": "wrapped-secretary",
   "metadata": {},
   "outputs": [
    {
     "data": {
      "text/plain": [
       "0.04046302241176001"
      ]
     },
     "execution_count": 6,
     "metadata": {},
     "output_type": "execute_result"
    }
   ],
   "source": [
    "# Training data density \n",
    "n_ratings = training.shape[0]\n",
    "n_users = training['user'].nunique()\n",
    "n_movies = training['movie'].nunique()\n",
    "\n",
    "density = n_ratings/ (n_users * n_movies)\n",
    "density \n",
    "# Density show the number of missing values.. \n",
    "# we have a lost of missing values "
   ]
  },
  {
   "cell_type": "code",
   "execution_count": 7,
   "id": "revolutionary-coast",
   "metadata": {},
   "outputs": [
    {
     "data": {
      "text/html": [
       "<div>\n",
       "<style scoped>\n",
       "    .dataframe tbody tr th:only-of-type {\n",
       "        vertical-align: middle;\n",
       "    }\n",
       "\n",
       "    .dataframe tbody tr th {\n",
       "        vertical-align: top;\n",
       "    }\n",
       "\n",
       "    .dataframe thead th {\n",
       "        text-align: right;\n",
       "    }\n",
       "</style>\n",
       "<table border=\"1\" class=\"dataframe\">\n",
       "  <thead>\n",
       "    <tr style=\"text-align: right;\">\n",
       "      <th></th>\n",
       "      <th>user</th>\n",
       "      <th>movie</th>\n",
       "      <th>rating</th>\n",
       "      <th>timestamp</th>\n",
       "    </tr>\n",
       "  </thead>\n",
       "  <tbody>\n",
       "  </tbody>\n",
       "</table>\n",
       "</div>"
      ],
      "text/plain": [
       "Empty DataFrame\n",
       "Columns: [user, movie, rating, timestamp]\n",
       "Index: []"
      ]
     },
     "execution_count": 7,
     "metadata": {},
     "output_type": "execute_result"
    }
   ],
   "source": [
    "training[training.isna().all(1)] # everyone have seen atleast one movie "
   ]
  },
  {
   "cell_type": "code",
   "execution_count": 8,
   "id": "architectural-herald",
   "metadata": {},
   "outputs": [],
   "source": [
    "# Set up spark \n",
    "#### Setting Up Spark Session\n",
    "spark = ps.sql.SparkSession.builder.getOrCreate()"
   ]
  },
  {
   "cell_type": "raw",
   "id": "advanced-stereo",
   "metadata": {},
   "source": [
    "# Make spark data frame and train and test split \n",
    "df = spark.createDataFrame(training.drop('timestamp', axis = 1))\n",
    "train, test = df.randomSplit([0.8, 0.2], seed = 427471138)"
   ]
  },
  {
   "cell_type": "raw",
   "id": "excellent-marina",
   "metadata": {},
   "source": [
    "train.show(2)"
   ]
  },
  {
   "cell_type": "raw",
   "id": "blond-berlin",
   "metadata": {},
   "source": [
    "# Create First model \n",
    "params = {'itemCol': 'movie',\n",
    "          'userCol': 'user',\n",
    "          'ratingCol': 'rating',\n",
    "          'nonnegative': True,\n",
    "          'regParam': 0.1,\n",
    "          'rank': 50 }\n",
    "\n",
    "als_model = ALS(**params)"
   ]
  },
  {
   "cell_type": "raw",
   "id": "accepting-given",
   "metadata": {},
   "source": [
    "recommender = als_model.fit(train)"
   ]
  },
  {
   "cell_type": "raw",
   "id": "accomplished-anderson",
   "metadata": {},
   "source": [
    "test_pred = recommender.transform(test).toPandas()"
   ]
  },
  {
   "cell_type": "raw",
   "id": "closing-slovenia",
   "metadata": {},
   "source": [
    "# do first RMSE test \n",
    "mask = test_pred.prediction.isna()\n",
    "temp = test_pred[~mask]\n",
    "mean_squared_error(temp.rating, temp.prediction)"
   ]
  },
  {
   "cell_type": "raw",
   "id": "another-beast",
   "metadata": {},
   "source": [
    "test_pred"
   ]
  },
  {
   "cell_type": "markdown",
   "id": "after-worth",
   "metadata": {},
   "source": [
    "# -------- Some more EDA --------"
   ]
  },
  {
   "cell_type": "code",
   "execution_count": 9,
   "id": "featured-ebony",
   "metadata": {},
   "outputs": [
    {
     "data": {
      "text/plain": [
       "{'action',\n",
       " 'adventure',\n",
       " 'animation',\n",
       " 'children',\n",
       " 'comedy',\n",
       " 'crime',\n",
       " 'documentary',\n",
       " 'drama',\n",
       " 'fantasy',\n",
       " 'film-noir',\n",
       " 'horror',\n",
       " 'musical',\n",
       " 'mystery',\n",
       " 'romance',\n",
       " 'sci-fi',\n",
       " 'thriller',\n",
       " 'war',\n",
       " 'western'}"
      ]
     },
     "execution_count": 9,
     "metadata": {},
     "output_type": "execute_result"
    }
   ],
   "source": [
    "# make sperate genre\n",
    "# mask = movies.name.apply(lambda x: True if (len(x.split('(')) > 2) else False)\n",
    "genres = set()\n",
    "for lst in list(movies.genre):\n",
    "    lst = lst.split('|')\n",
    "    \n",
    "    for genre in lst:\n",
    "        genre = genre.lower()\n",
    "        genre = genre.strip()\n",
    "        \n",
    "        # genre = '_'.join(genre.split('-'))\n",
    "        genre = genre.split('\\'')[0]\n",
    "        genres.add(genre)  \n",
    "genres"
   ]
  },
  {
   "cell_type": "code",
   "execution_count": 10,
   "id": "coupled-brass",
   "metadata": {},
   "outputs": [
    {
     "data": {
      "text/plain": [
       "\"Animation|Children's|Comedy\""
      ]
     },
     "execution_count": 10,
     "metadata": {},
     "output_type": "execute_result"
    }
   ],
   "source": [
    "list(movies.genre)[0]"
   ]
  },
  {
   "cell_type": "code",
   "execution_count": 11,
   "id": "joint-investigator",
   "metadata": {},
   "outputs": [],
   "source": [
    "lrow = \"Animation|Children's|Comedy\"\n",
    "def glst(row):\n",
    "    row = row.lower()\n",
    "    row = row.strip()\n",
    "    row = row.replace('\\'s', '')\n",
    "    \n",
    "    return row.split('|')"
   ]
  },
  {
   "cell_type": "code",
   "execution_count": 12,
   "id": "round-gabriel",
   "metadata": {},
   "outputs": [
    {
     "data": {
      "text/html": [
       "<div>\n",
       "<style scoped>\n",
       "    .dataframe tbody tr th:only-of-type {\n",
       "        vertical-align: middle;\n",
       "    }\n",
       "\n",
       "    .dataframe tbody tr th {\n",
       "        vertical-align: top;\n",
       "    }\n",
       "\n",
       "    .dataframe thead th {\n",
       "        text-align: right;\n",
       "    }\n",
       "</style>\n",
       "<table border=\"1\" class=\"dataframe\">\n",
       "  <thead>\n",
       "    <tr style=\"text-align: right;\">\n",
       "      <th></th>\n",
       "      <th>movie</th>\n",
       "      <th>name</th>\n",
       "      <th>genre</th>\n",
       "      <th>adventure</th>\n",
       "      <th>fantasy</th>\n",
       "      <th>horror</th>\n",
       "      <th>musical</th>\n",
       "      <th>romance</th>\n",
       "      <th>sci-fi</th>\n",
       "      <th>action</th>\n",
       "      <th>...</th>\n",
       "      <th>mystery</th>\n",
       "      <th>western</th>\n",
       "      <th>drama</th>\n",
       "      <th>documentary</th>\n",
       "      <th>thriller</th>\n",
       "      <th>animation</th>\n",
       "      <th>film-noir</th>\n",
       "      <th>comedy</th>\n",
       "      <th>children</th>\n",
       "      <th>crime</th>\n",
       "    </tr>\n",
       "  </thead>\n",
       "  <tbody>\n",
       "    <tr>\n",
       "      <th>0</th>\n",
       "      <td>1</td>\n",
       "      <td>Toy Story (1995)</td>\n",
       "      <td>Animation|Children's|Comedy</td>\n",
       "      <td>0</td>\n",
       "      <td>0</td>\n",
       "      <td>0</td>\n",
       "      <td>0</td>\n",
       "      <td>0</td>\n",
       "      <td>0</td>\n",
       "      <td>0</td>\n",
       "      <td>...</td>\n",
       "      <td>0</td>\n",
       "      <td>0</td>\n",
       "      <td>0</td>\n",
       "      <td>0</td>\n",
       "      <td>0</td>\n",
       "      <td>1</td>\n",
       "      <td>0</td>\n",
       "      <td>1</td>\n",
       "      <td>1</td>\n",
       "      <td>0</td>\n",
       "    </tr>\n",
       "  </tbody>\n",
       "</table>\n",
       "<p>1 rows × 21 columns</p>\n",
       "</div>"
      ],
      "text/plain": [
       "   movie              name                        genre  adventure  fantasy  \\\n",
       "0      1  Toy Story (1995)  Animation|Children's|Comedy          0        0   \n",
       "\n",
       "   horror  musical  romance  sci-fi  action  ...  mystery  western  drama  \\\n",
       "0       0        0        0       0       0  ...        0        0      0   \n",
       "\n",
       "   documentary  thriller  animation  film-noir  comedy  children  crime  \n",
       "0            0         0          1          0       1         1      0  \n",
       "\n",
       "[1 rows x 21 columns]"
      ]
     },
     "execution_count": 12,
     "metadata": {},
     "output_type": "execute_result"
    }
   ],
   "source": [
    "movies_df = movies.copy()\n",
    "# make genre to a dummy variable \n",
    "def dummy(col, data):\n",
    "    data[col] = data.genre.apply(lambda x: 1 if col in glst(x) else 0)\n",
    "\n",
    "for c in list(genres):\n",
    "    dummy(c, movies_df)\n",
    "\n",
    "movies_df.head(1)"
   ]
  },
  {
   "cell_type": "code",
   "execution_count": 13,
   "id": "pregnant-broadcast",
   "metadata": {},
   "outputs": [],
   "source": [
    "genre_freq = movies_df[list(genres)].T.sum(axis = 1)"
   ]
  },
  {
   "cell_type": "code",
   "execution_count": 14,
   "id": "varying-annex",
   "metadata": {},
   "outputs": [
    {
     "data": {
      "text/plain": [
       "Text(0, 0.5, 'genre')"
      ]
     },
     "execution_count": 14,
     "metadata": {},
     "output_type": "execute_result"
    },
    {
     "data": {
      "image/png": "[encoded data removed]",
      "text/plain": [
       "<Figure size 432x288 with 1 Axes>"
      ]
     },
     "metadata": {
      "needs_background": "light"
     },
     "output_type": "display_data"
    }
   ],
   "source": [
    "fig, ax = plt.subplots()\n",
    "ax.barh(y = genre_freq.index, width = genre_freq.values)\n",
    "ax.set_xlabel('freq')\n",
    "ax.set_ylabel('genre')"
   ]
  },
  {
   "cell_type": "code",
   "execution_count": 15,
   "id": "exotic-genetics",
   "metadata": {},
   "outputs": [],
   "source": [
    "movies_df.drop('genre', axis = 1, inplace = True)"
   ]
  },
  {
   "cell_type": "markdown",
   "id": "owned-craft",
   "metadata": {},
   "source": [
    "# ------- Movies name and date ----------"
   ]
  },
  {
   "cell_type": "code",
   "execution_count": 16,
   "id": "figured-montana",
   "metadata": {},
   "outputs": [],
   "source": [
    "def getdate(x):\n",
    "    return int(x[len(x) - 6:len(x)].strip('(\\)'))\n",
    "\n",
    "def getname(x):\n",
    "    date = x[len(x) - 6:len(x)]\n",
    "    return x.strip(date).strip()"
   ]
  },
  {
   "cell_type": "code",
   "execution_count": 17,
   "id": "instant-portable",
   "metadata": {},
   "outputs": [],
   "source": [
    "movies_df['date'] = movies_df.name.apply(lambda x: getdate(x))"
   ]
  },
  {
   "cell_type": "code",
   "execution_count": 18,
   "id": "chubby-newport",
   "metadata": {},
   "outputs": [],
   "source": [
    "movies_df['name_'] = movies_df.name.apply(lambda x: getname(x))"
   ]
  },
  {
   "cell_type": "code",
   "execution_count": 19,
   "id": "heavy-gauge",
   "metadata": {},
   "outputs": [],
   "source": [
    "# Make movie is foreign  column\n",
    "movies_df['foreign'] = movies_df.name_.apply(lambda x: 1 if ')' in x else 0)"
   ]
  },
  {
   "cell_type": "code",
   "execution_count": 20,
   "id": "confirmed-light",
   "metadata": {},
   "outputs": [],
   "source": [
    "movies_df.drop('name', axis = 1, inplace = True)\n",
    "movies_df.rename(columns = {'name_': 'name'}, inplace=True)"
   ]
  },
  {
   "cell_type": "code",
   "execution_count": 21,
   "id": "included-bicycle",
   "metadata": {},
   "outputs": [],
   "source": [
    "# date as binary \n",
    "movies_df['new'] = movies_df.date.apply(lambda x: 1 if x > 1994 else 0)"
   ]
  },
  {
   "cell_type": "code",
   "execution_count": 22,
   "id": "absolute-detection",
   "metadata": {},
   "outputs": [
    {
     "data": {
      "text/html": [
       "<div>\n",
       "<style scoped>\n",
       "    .dataframe tbody tr th:only-of-type {\n",
       "        vertical-align: middle;\n",
       "    }\n",
       "\n",
       "    .dataframe tbody tr th {\n",
       "        vertical-align: top;\n",
       "    }\n",
       "\n",
       "    .dataframe thead th {\n",
       "        text-align: right;\n",
       "    }\n",
       "</style>\n",
       "<table border=\"1\" class=\"dataframe\">\n",
       "  <thead>\n",
       "    <tr style=\"text-align: right;\">\n",
       "      <th></th>\n",
       "      <th>movie</th>\n",
       "      <th>adventure</th>\n",
       "      <th>fantasy</th>\n",
       "      <th>horror</th>\n",
       "      <th>musical</th>\n",
       "      <th>romance</th>\n",
       "      <th>sci-fi</th>\n",
       "      <th>action</th>\n",
       "      <th>war</th>\n",
       "      <th>mystery</th>\n",
       "      <th>...</th>\n",
       "      <th>thriller</th>\n",
       "      <th>animation</th>\n",
       "      <th>film-noir</th>\n",
       "      <th>comedy</th>\n",
       "      <th>children</th>\n",
       "      <th>crime</th>\n",
       "      <th>date</th>\n",
       "      <th>name</th>\n",
       "      <th>foreign</th>\n",
       "      <th>new</th>\n",
       "    </tr>\n",
       "  </thead>\n",
       "  <tbody>\n",
       "    <tr>\n",
       "      <th>0</th>\n",
       "      <td>1</td>\n",
       "      <td>0</td>\n",
       "      <td>0</td>\n",
       "      <td>0</td>\n",
       "      <td>0</td>\n",
       "      <td>0</td>\n",
       "      <td>0</td>\n",
       "      <td>0</td>\n",
       "      <td>0</td>\n",
       "      <td>0</td>\n",
       "      <td>...</td>\n",
       "      <td>0</td>\n",
       "      <td>1</td>\n",
       "      <td>0</td>\n",
       "      <td>1</td>\n",
       "      <td>1</td>\n",
       "      <td>0</td>\n",
       "      <td>1995</td>\n",
       "      <td>Toy Story</td>\n",
       "      <td>0</td>\n",
       "      <td>1</td>\n",
       "    </tr>\n",
       "    <tr>\n",
       "      <th>1</th>\n",
       "      <td>2</td>\n",
       "      <td>1</td>\n",
       "      <td>1</td>\n",
       "      <td>0</td>\n",
       "      <td>0</td>\n",
       "      <td>0</td>\n",
       "      <td>0</td>\n",
       "      <td>0</td>\n",
       "      <td>0</td>\n",
       "      <td>0</td>\n",
       "      <td>...</td>\n",
       "      <td>0</td>\n",
       "      <td>0</td>\n",
       "      <td>0</td>\n",
       "      <td>0</td>\n",
       "      <td>1</td>\n",
       "      <td>0</td>\n",
       "      <td>1995</td>\n",
       "      <td>Jumanji</td>\n",
       "      <td>0</td>\n",
       "      <td>1</td>\n",
       "    </tr>\n",
       "    <tr>\n",
       "      <th>2</th>\n",
       "      <td>3</td>\n",
       "      <td>0</td>\n",
       "      <td>0</td>\n",
       "      <td>0</td>\n",
       "      <td>0</td>\n",
       "      <td>1</td>\n",
       "      <td>0</td>\n",
       "      <td>0</td>\n",
       "      <td>0</td>\n",
       "      <td>0</td>\n",
       "      <td>...</td>\n",
       "      <td>0</td>\n",
       "      <td>0</td>\n",
       "      <td>0</td>\n",
       "      <td>1</td>\n",
       "      <td>0</td>\n",
       "      <td>0</td>\n",
       "      <td>1995</td>\n",
       "      <td>Grumpier Old Men</td>\n",
       "      <td>0</td>\n",
       "      <td>1</td>\n",
       "    </tr>\n",
       "    <tr>\n",
       "      <th>3</th>\n",
       "      <td>4</td>\n",
       "      <td>0</td>\n",
       "      <td>0</td>\n",
       "      <td>0</td>\n",
       "      <td>0</td>\n",
       "      <td>0</td>\n",
       "      <td>0</td>\n",
       "      <td>0</td>\n",
       "      <td>0</td>\n",
       "      <td>0</td>\n",
       "      <td>...</td>\n",
       "      <td>0</td>\n",
       "      <td>0</td>\n",
       "      <td>0</td>\n",
       "      <td>1</td>\n",
       "      <td>0</td>\n",
       "      <td>0</td>\n",
       "      <td>1995</td>\n",
       "      <td>Waiting to Exhale</td>\n",
       "      <td>0</td>\n",
       "      <td>1</td>\n",
       "    </tr>\n",
       "    <tr>\n",
       "      <th>4</th>\n",
       "      <td>5</td>\n",
       "      <td>0</td>\n",
       "      <td>0</td>\n",
       "      <td>0</td>\n",
       "      <td>0</td>\n",
       "      <td>0</td>\n",
       "      <td>0</td>\n",
       "      <td>0</td>\n",
       "      <td>0</td>\n",
       "      <td>0</td>\n",
       "      <td>...</td>\n",
       "      <td>0</td>\n",
       "      <td>0</td>\n",
       "      <td>0</td>\n",
       "      <td>1</td>\n",
       "      <td>0</td>\n",
       "      <td>0</td>\n",
       "      <td>1995</td>\n",
       "      <td>Father of the Bride Part II</td>\n",
       "      <td>0</td>\n",
       "      <td>1</td>\n",
       "    </tr>\n",
       "  </tbody>\n",
       "</table>\n",
       "<p>5 rows × 23 columns</p>\n",
       "</div>"
      ],
      "text/plain": [
       "   movie  adventure  fantasy  horror  musical  romance  sci-fi  action  war  \\\n",
       "0      1          0        0       0        0        0       0       0    0   \n",
       "1      2          1        1       0        0        0       0       0    0   \n",
       "2      3          0        0       0        0        1       0       0    0   \n",
       "3      4          0        0       0        0        0       0       0    0   \n",
       "4      5          0        0       0        0        0       0       0    0   \n",
       "\n",
       "   mystery  ...  thriller  animation  film-noir  comedy  children  crime  \\\n",
       "0        0  ...         0          1          0       1         1      0   \n",
       "1        0  ...         0          0          0       0         1      0   \n",
       "2        0  ...         0          0          0       1         0      0   \n",
       "3        0  ...         0          0          0       1         0      0   \n",
       "4        0  ...         0          0          0       1         0      0   \n",
       "\n",
       "   date                         name  foreign  new  \n",
       "0  1995                    Toy Story        0    1  \n",
       "1  1995                      Jumanji        0    1  \n",
       "2  1995             Grumpier Old Men        0    1  \n",
       "3  1995            Waiting to Exhale        0    1  \n",
       "4  1995  Father of the Bride Part II        0    1  \n",
       "\n",
       "[5 rows x 23 columns]"
      ]
     },
     "execution_count": 22,
     "metadata": {},
     "output_type": "execute_result"
    }
   ],
   "source": [
    "movies_df.head()"
   ]
  },
  {
   "cell_type": "markdown",
   "id": "upper-freeze",
   "metadata": {},
   "source": [
    "# ------- Users ----------"
   ]
  },
  {
   "cell_type": "code",
   "execution_count": 23,
   "id": "superior-comedy",
   "metadata": {},
   "outputs": [
    {
     "data": {
      "text/html": [
       "<div>\n",
       "<style scoped>\n",
       "    .dataframe tbody tr th:only-of-type {\n",
       "        vertical-align: middle;\n",
       "    }\n",
       "\n",
       "    .dataframe tbody tr th {\n",
       "        vertical-align: top;\n",
       "    }\n",
       "\n",
       "    .dataframe thead th {\n",
       "        text-align: right;\n",
       "    }\n",
       "</style>\n",
       "<table border=\"1\" class=\"dataframe\">\n",
       "  <thead>\n",
       "    <tr style=\"text-align: right;\">\n",
       "      <th></th>\n",
       "      <th>user</th>\n",
       "      <th>age</th>\n",
       "      <th>occupation</th>\n",
       "    </tr>\n",
       "  </thead>\n",
       "  <tbody>\n",
       "    <tr>\n",
       "      <th>count</th>\n",
       "      <td>6040.000000</td>\n",
       "      <td>6040.000000</td>\n",
       "      <td>6040.000000</td>\n",
       "    </tr>\n",
       "    <tr>\n",
       "      <th>mean</th>\n",
       "      <td>3020.500000</td>\n",
       "      <td>30.639238</td>\n",
       "      <td>8.146854</td>\n",
       "    </tr>\n",
       "    <tr>\n",
       "      <th>std</th>\n",
       "      <td>1743.742145</td>\n",
       "      <td>12.895962</td>\n",
       "      <td>6.329511</td>\n",
       "    </tr>\n",
       "    <tr>\n",
       "      <th>min</th>\n",
       "      <td>1.000000</td>\n",
       "      <td>1.000000</td>\n",
       "      <td>0.000000</td>\n",
       "    </tr>\n",
       "    <tr>\n",
       "      <th>25%</th>\n",
       "      <td>1510.750000</td>\n",
       "      <td>25.000000</td>\n",
       "      <td>3.000000</td>\n",
       "    </tr>\n",
       "    <tr>\n",
       "      <th>50%</th>\n",
       "      <td>3020.500000</td>\n",
       "      <td>25.000000</td>\n",
       "      <td>7.000000</td>\n",
       "    </tr>\n",
       "    <tr>\n",
       "      <th>75%</th>\n",
       "      <td>4530.250000</td>\n",
       "      <td>35.000000</td>\n",
       "      <td>14.000000</td>\n",
       "    </tr>\n",
       "    <tr>\n",
       "      <th>max</th>\n",
       "      <td>6040.000000</td>\n",
       "      <td>56.000000</td>\n",
       "      <td>20.000000</td>\n",
       "    </tr>\n",
       "  </tbody>\n",
       "</table>\n",
       "</div>"
      ],
      "text/plain": [
       "              user          age   occupation\n",
       "count  6040.000000  6040.000000  6040.000000\n",
       "mean   3020.500000    30.639238     8.146854\n",
       "std    1743.742145    12.895962     6.329511\n",
       "min       1.000000     1.000000     0.000000\n",
       "25%    1510.750000    25.000000     3.000000\n",
       "50%    3020.500000    25.000000     7.000000\n",
       "75%    4530.250000    35.000000    14.000000\n",
       "max    6040.000000    56.000000    20.000000"
      ]
     },
     "execution_count": 23,
     "metadata": {},
     "output_type": "execute_result"
    }
   ],
   "source": [
    "users.describe()"
   ]
  },
  {
   "cell_type": "code",
   "execution_count": 24,
   "id": "least-antique",
   "metadata": {},
   "outputs": [
    {
     "data": {
      "text/plain": [
       "Text(0, 0.5, 'occupation')"
      ]
     },
     "execution_count": 24,
     "metadata": {},
     "output_type": "execute_result"
    },
    {
     "data": {
      "image/png": "[encoded data removed]",
      "text/plain": [
       "<Figure size 432x288 with 1 Axes>"
      ]
     },
     "metadata": {
      "needs_background": "light"
     },
     "output_type": "display_data"
    }
   ],
   "source": [
    "occupation_freq = users.occupation.value_counts()\n",
    "fig, ax = plt.subplots()\n",
    "ax.barh(y = occupation_freq.index, width = occupation_freq.values)\n",
    "ax.set_xlabel('freq')\n",
    "ax.set_ylabel('occupation')"
   ]
  },
  {
   "cell_type": "code",
   "execution_count": 25,
   "id": "covered-philadelphia",
   "metadata": {},
   "outputs": [
    {
     "data": {
      "text/plain": [
       "Text(0, 0.5, 'occupation')"
      ]
     },
     "execution_count": 25,
     "metadata": {},
     "output_type": "execute_result"
    },
    {
     "data": {
      "image/png": "[encoded data removed]",
      "text/plain": [
       "<Figure size 432x288 with 1 Axes>"
      ]
     },
     "metadata": {
      "needs_background": "light"
     },
     "output_type": "display_data"
    }
   ],
   "source": [
    "age_freq = users.age.value_counts()\n",
    "fig, ax = plt.subplots()\n",
    "\n",
    "ax.barh(y = age_freq.index, width = age_freq.values)\n",
    "ax.set_xlabel('freq')\n",
    "ax.set_ylabel('occupation')"
   ]
  },
  {
   "cell_type": "code",
   "execution_count": 26,
   "id": "clean-market",
   "metadata": {},
   "outputs": [],
   "source": [
    "users.gender.replace(['M', 'F'], ['1', '0'], inplace = True)"
   ]
  },
  {
   "cell_type": "code",
   "execution_count": 27,
   "id": "julian-december",
   "metadata": {},
   "outputs": [],
   "source": [
    "users_df = users.copy()"
   ]
  },
  {
   "cell_type": "code",
   "execution_count": 28,
   "id": "cutting-client",
   "metadata": {},
   "outputs": [],
   "source": [
    "# Fix zip code: change it to int \n",
    "users_df['zip_code'] = users_df.zip_code.apply(lambda x: x.split('-')[0] if '-' in x else x)"
   ]
  },
  {
   "cell_type": "code",
   "execution_count": 29,
   "id": "moving-persian",
   "metadata": {},
   "outputs": [],
   "source": [
    "users_df['zip_code'] = pd.to_numeric(users_df['zip_code'])"
   ]
  },
  {
   "cell_type": "markdown",
   "id": "coupled-verse",
   "metadata": {},
   "source": [
    "# ---------- Let try some stuff -----------"
   ]
  },
  {
   "cell_type": "code",
   "execution_count": 30,
   "id": "arabic-affiliation",
   "metadata": {},
   "outputs": [
    {
     "data": {
      "text/html": [
       "<div>\n",
       "<style scoped>\n",
       "    .dataframe tbody tr th:only-of-type {\n",
       "        vertical-align: middle;\n",
       "    }\n",
       "\n",
       "    .dataframe tbody tr th {\n",
       "        vertical-align: top;\n",
       "    }\n",
       "\n",
       "    .dataframe thead th {\n",
       "        text-align: right;\n",
       "    }\n",
       "</style>\n",
       "<table border=\"1\" class=\"dataframe\">\n",
       "  <thead>\n",
       "    <tr style=\"text-align: right;\">\n",
       "      <th></th>\n",
       "      <th>user</th>\n",
       "      <th>movie</th>\n",
       "      <th>rating</th>\n",
       "      <th>timestamp</th>\n",
       "      <th>viewed_date</th>\n",
       "    </tr>\n",
       "  </thead>\n",
       "  <tbody>\n",
       "    <tr>\n",
       "      <th>0</th>\n",
       "      <td>6040</td>\n",
       "      <td>858</td>\n",
       "      <td>4</td>\n",
       "      <td>956703932</td>\n",
       "      <td>2000-04-25 23:05:32</td>\n",
       "    </tr>\n",
       "    <tr>\n",
       "      <th>1</th>\n",
       "      <td>6040</td>\n",
       "      <td>593</td>\n",
       "      <td>5</td>\n",
       "      <td>956703954</td>\n",
       "      <td>2000-04-25 23:05:54</td>\n",
       "    </tr>\n",
       "    <tr>\n",
       "      <th>2</th>\n",
       "      <td>6040</td>\n",
       "      <td>2384</td>\n",
       "      <td>4</td>\n",
       "      <td>956703954</td>\n",
       "      <td>2000-04-25 23:05:54</td>\n",
       "    </tr>\n",
       "  </tbody>\n",
       "</table>\n",
       "</div>"
      ],
      "text/plain": [
       "   user  movie  rating  timestamp         viewed_date\n",
       "0  6040    858       4  956703932 2000-04-25 23:05:32\n",
       "1  6040    593       5  956703954 2000-04-25 23:05:54\n",
       "2  6040   2384       4  956703954 2000-04-25 23:05:54"
      ]
     },
     "execution_count": 30,
     "metadata": {},
     "output_type": "execute_result"
    }
   ],
   "source": [
    "# Change time stamp into month watched\n",
    "import time\n",
    "training['viewed_date'] = pd.to_datetime(training['timestamp'].apply(lambda x: time.ctime(x)))\n",
    "training.head(3)"
   ]
  },
  {
   "cell_type": "code",
   "execution_count": 31,
   "id": "anticipated-express",
   "metadata": {},
   "outputs": [],
   "source": [
    "training['viewed_month'] = training['viewed_date'].dt.month\n",
    "training['viewed_day'] = training['viewed_date'].dt.day"
   ]
  },
  {
   "cell_type": "code",
   "execution_count": 32,
   "id": "tutorial-architect",
   "metadata": {},
   "outputs": [
    {
     "data": {
      "text/html": [
       "<div>\n",
       "<style scoped>\n",
       "    .dataframe tbody tr th:only-of-type {\n",
       "        vertical-align: middle;\n",
       "    }\n",
       "\n",
       "    .dataframe tbody tr th {\n",
       "        vertical-align: top;\n",
       "    }\n",
       "\n",
       "    .dataframe thead th {\n",
       "        text-align: right;\n",
       "    }\n",
       "</style>\n",
       "<table border=\"1\" class=\"dataframe\">\n",
       "  <thead>\n",
       "    <tr style=\"text-align: right;\">\n",
       "      <th></th>\n",
       "      <th>user</th>\n",
       "      <th>movie</th>\n",
       "      <th>rating</th>\n",
       "      <th>viewed_month</th>\n",
       "      <th>viewed_day</th>\n",
       "    </tr>\n",
       "  </thead>\n",
       "  <tbody>\n",
       "    <tr>\n",
       "      <th>0</th>\n",
       "      <td>6040</td>\n",
       "      <td>858</td>\n",
       "      <td>4</td>\n",
       "      <td>4</td>\n",
       "      <td>25</td>\n",
       "    </tr>\n",
       "    <tr>\n",
       "      <th>1</th>\n",
       "      <td>6040</td>\n",
       "      <td>593</td>\n",
       "      <td>5</td>\n",
       "      <td>4</td>\n",
       "      <td>25</td>\n",
       "    </tr>\n",
       "  </tbody>\n",
       "</table>\n",
       "</div>"
      ],
      "text/plain": [
       "   user  movie  rating  viewed_month  viewed_day\n",
       "0  6040    858       4             4          25\n",
       "1  6040    593       5             4          25"
      ]
     },
     "execution_count": 32,
     "metadata": {},
     "output_type": "execute_result"
    }
   ],
   "source": [
    "training.drop(['timestamp', 'viewed_date'], axis = 1, inplace = True)\n",
    "training.head(2)"
   ]
  },
  {
   "cell_type": "code",
   "execution_count": 33,
   "id": "passing-victory",
   "metadata": {},
   "outputs": [],
   "source": [
    "df = training.copy()"
   ]
  },
  {
   "cell_type": "code",
   "execution_count": 34,
   "id": "fleet-notification",
   "metadata": {},
   "outputs": [
    {
     "data": {
      "text/html": [
       "<div>\n",
       "<style scoped>\n",
       "    .dataframe tbody tr th:only-of-type {\n",
       "        vertical-align: middle;\n",
       "    }\n",
       "\n",
       "    .dataframe tbody tr th {\n",
       "        vertical-align: top;\n",
       "    }\n",
       "\n",
       "    .dataframe thead th {\n",
       "        text-align: right;\n",
       "    }\n",
       "</style>\n",
       "<table border=\"1\" class=\"dataframe\">\n",
       "  <thead>\n",
       "    <tr style=\"text-align: right;\">\n",
       "      <th></th>\n",
       "      <th>user</th>\n",
       "      <th>movie</th>\n",
       "      <th>rating</th>\n",
       "      <th>viewed_month</th>\n",
       "      <th>viewed_day</th>\n",
       "      <th>adventure</th>\n",
       "      <th>fantasy</th>\n",
       "      <th>horror</th>\n",
       "      <th>musical</th>\n",
       "      <th>romance</th>\n",
       "      <th>...</th>\n",
       "      <th>children</th>\n",
       "      <th>crime</th>\n",
       "      <th>date</th>\n",
       "      <th>name</th>\n",
       "      <th>foreign</th>\n",
       "      <th>new</th>\n",
       "      <th>gender</th>\n",
       "      <th>age</th>\n",
       "      <th>occupation</th>\n",
       "      <th>zip_code</th>\n",
       "    </tr>\n",
       "  </thead>\n",
       "  <tbody>\n",
       "    <tr>\n",
       "      <th>0</th>\n",
       "      <td>6040</td>\n",
       "      <td>858</td>\n",
       "      <td>4</td>\n",
       "      <td>4</td>\n",
       "      <td>25</td>\n",
       "      <td>0</td>\n",
       "      <td>0</td>\n",
       "      <td>0</td>\n",
       "      <td>0</td>\n",
       "      <td>0</td>\n",
       "      <td>...</td>\n",
       "      <td>0</td>\n",
       "      <td>1</td>\n",
       "      <td>1972</td>\n",
       "      <td>Godfather, The</td>\n",
       "      <td>0</td>\n",
       "      <td>0</td>\n",
       "      <td>1</td>\n",
       "      <td>25</td>\n",
       "      <td>6</td>\n",
       "      <td>11106</td>\n",
       "    </tr>\n",
       "    <tr>\n",
       "      <th>1</th>\n",
       "      <td>6040</td>\n",
       "      <td>593</td>\n",
       "      <td>5</td>\n",
       "      <td>4</td>\n",
       "      <td>25</td>\n",
       "      <td>0</td>\n",
       "      <td>0</td>\n",
       "      <td>0</td>\n",
       "      <td>0</td>\n",
       "      <td>0</td>\n",
       "      <td>...</td>\n",
       "      <td>0</td>\n",
       "      <td>0</td>\n",
       "      <td>1991</td>\n",
       "      <td>Silence of the Lambs, The</td>\n",
       "      <td>0</td>\n",
       "      <td>0</td>\n",
       "      <td>1</td>\n",
       "      <td>25</td>\n",
       "      <td>6</td>\n",
       "      <td>11106</td>\n",
       "    </tr>\n",
       "    <tr>\n",
       "      <th>2</th>\n",
       "      <td>6040</td>\n",
       "      <td>2384</td>\n",
       "      <td>4</td>\n",
       "      <td>4</td>\n",
       "      <td>25</td>\n",
       "      <td>0</td>\n",
       "      <td>0</td>\n",
       "      <td>0</td>\n",
       "      <td>0</td>\n",
       "      <td>0</td>\n",
       "      <td>...</td>\n",
       "      <td>1</td>\n",
       "      <td>0</td>\n",
       "      <td>1998</td>\n",
       "      <td>Babe: Pig in the City</td>\n",
       "      <td>0</td>\n",
       "      <td>1</td>\n",
       "      <td>1</td>\n",
       "      <td>25</td>\n",
       "      <td>6</td>\n",
       "      <td>11106</td>\n",
       "    </tr>\n",
       "    <tr>\n",
       "      <th>3</th>\n",
       "      <td>6040</td>\n",
       "      <td>1961</td>\n",
       "      <td>4</td>\n",
       "      <td>4</td>\n",
       "      <td>25</td>\n",
       "      <td>0</td>\n",
       "      <td>0</td>\n",
       "      <td>0</td>\n",
       "      <td>0</td>\n",
       "      <td>0</td>\n",
       "      <td>...</td>\n",
       "      <td>0</td>\n",
       "      <td>0</td>\n",
       "      <td>1988</td>\n",
       "      <td>Rain Man</td>\n",
       "      <td>0</td>\n",
       "      <td>0</td>\n",
       "      <td>1</td>\n",
       "      <td>25</td>\n",
       "      <td>6</td>\n",
       "      <td>11106</td>\n",
       "    </tr>\n",
       "    <tr>\n",
       "      <th>4</th>\n",
       "      <td>6040</td>\n",
       "      <td>2019</td>\n",
       "      <td>5</td>\n",
       "      <td>4</td>\n",
       "      <td>25</td>\n",
       "      <td>0</td>\n",
       "      <td>0</td>\n",
       "      <td>0</td>\n",
       "      <td>0</td>\n",
       "      <td>0</td>\n",
       "      <td>...</td>\n",
       "      <td>0</td>\n",
       "      <td>0</td>\n",
       "      <td>1954</td>\n",
       "      <td>Seven Samurai (The Magnificent Seven) (Shichin...</td>\n",
       "      <td>1</td>\n",
       "      <td>0</td>\n",
       "      <td>1</td>\n",
       "      <td>25</td>\n",
       "      <td>6</td>\n",
       "      <td>11106</td>\n",
       "    </tr>\n",
       "  </tbody>\n",
       "</table>\n",
       "<p>5 rows × 31 columns</p>\n",
       "</div>"
      ],
      "text/plain": [
       "   user  movie  rating  viewed_month  viewed_day  adventure  fantasy  horror  \\\n",
       "0  6040    858       4             4          25          0        0       0   \n",
       "1  6040    593       5             4          25          0        0       0   \n",
       "2  6040   2384       4             4          25          0        0       0   \n",
       "3  6040   1961       4             4          25          0        0       0   \n",
       "4  6040   2019       5             4          25          0        0       0   \n",
       "\n",
       "   musical  romance  ...  children  crime  date  \\\n",
       "0        0        0  ...         0      1  1972   \n",
       "1        0        0  ...         0      0  1991   \n",
       "2        0        0  ...         1      0  1998   \n",
       "3        0        0  ...         0      0  1988   \n",
       "4        0        0  ...         0      0  1954   \n",
       "\n",
       "                                                name  foreign  new  gender  \\\n",
       "0                                     Godfather, The        0    0       1   \n",
       "1                          Silence of the Lambs, The        0    0       1   \n",
       "2                              Babe: Pig in the City        0    1       1   \n",
       "3                                           Rain Man        0    0       1   \n",
       "4  Seven Samurai (The Magnificent Seven) (Shichin...        1    0       1   \n",
       "\n",
       "   age  occupation  zip_code  \n",
       "0   25           6     11106  \n",
       "1   25           6     11106  \n",
       "2   25           6     11106  \n",
       "3   25           6     11106  \n",
       "4   25           6     11106  \n",
       "\n",
       "[5 rows x 31 columns]"
      ]
     },
     "execution_count": 34,
     "metadata": {},
     "output_type": "execute_result"
    }
   ],
   "source": [
    "df = pd.merge(left = df, right = movies_df, left_on = 'movie', right_on = 'movie')\n",
    "df = pd.merge(left = df, right = users_df, left_on = 'user', right_on = 'user')\n",
    "df.head() "
   ]
  },
  {
   "cell_type": "code",
   "execution_count": 35,
   "id": "exciting-opinion",
   "metadata": {},
   "outputs": [
    {
     "name": "stdout",
     "output_type": "stream",
     "text": [
      "<class 'pandas.core.frame.DataFrame'>\n",
      "Int64Index: 800000 entries, 0 to 799999\n",
      "Data columns (total 31 columns):\n",
      " #   Column        Non-Null Count   Dtype \n",
      "---  ------        --------------   ----- \n",
      " 0   user          800000 non-null  int64 \n",
      " 1   movie         800000 non-null  int64 \n",
      " 2   rating        800000 non-null  int64 \n",
      " 3   viewed_month  800000 non-null  int64 \n",
      " 4   viewed_day    800000 non-null  int64 \n",
      " 5   adventure     800000 non-null  int64 \n",
      " 6   fantasy       800000 non-null  int64 \n",
      " 7   horror        800000 non-null  int64 \n",
      " 8   musical       800000 non-null  int64 \n",
      " 9   romance       800000 non-null  int64 \n",
      " 10  sci-fi        800000 non-null  int64 \n",
      " 11  action        800000 non-null  int64 \n",
      " 12  war           800000 non-null  int64 \n",
      " 13  mystery       800000 non-null  int64 \n",
      " 14  western       800000 non-null  int64 \n",
      " 15  drama         800000 non-null  int64 \n",
      " 16  documentary   800000 non-null  int64 \n",
      " 17  thriller      800000 non-null  int64 \n",
      " 18  animation     800000 non-null  int64 \n",
      " 19  film-noir     800000 non-null  int64 \n",
      " 20  comedy        800000 non-null  int64 \n",
      " 21  children      800000 non-null  int64 \n",
      " 22  crime         800000 non-null  int64 \n",
      " 23  date          800000 non-null  int64 \n",
      " 24  name          800000 non-null  object\n",
      " 25  foreign       800000 non-null  int64 \n",
      " 26  new           800000 non-null  int64 \n",
      " 27  gender        800000 non-null  object\n",
      " 28  age           800000 non-null  int64 \n",
      " 29  occupation    800000 non-null  int64 \n",
      " 30  zip_code      800000 non-null  int64 \n",
      "dtypes: int64(29), object(2)\n",
      "memory usage: 195.3+ MB\n"
     ]
    }
   ],
   "source": [
    "df.info()"
   ]
  },
  {
   "cell_type": "code",
   "execution_count": 36,
   "id": "younger-spell",
   "metadata": {},
   "outputs": [],
   "source": [
    "df['gender'] = pd.to_numeric(df['gender'])"
   ]
  },
  {
   "cell_type": "markdown",
   "id": "distant-armstrong",
   "metadata": {},
   "source": [
    "# ----------- Lets Make Them Models --------------"
   ]
  },
  {
   "cell_type": "code",
   "execution_count": 37,
   "id": "increased-translation",
   "metadata": {},
   "outputs": [],
   "source": [
    "# Imports \n",
    "from sklearn.model_selection import train_test_split\n",
    "from sklearn.ensemble import RandomForestRegressor"
   ]
  },
  {
   "cell_type": "code",
   "execution_count": 38,
   "id": "legal-hartford",
   "metadata": {},
   "outputs": [
    {
     "data": {
      "text/plain": [
       "Index(['user', 'movie', 'rating', 'viewed_month', 'viewed_day', 'adventure',\n",
       "       'fantasy', 'horror', 'musical', 'romance', 'sci-fi', 'action', 'war',\n",
       "       'mystery', 'western', 'drama', 'documentary', 'thriller', 'animation',\n",
       "       'film-noir', 'comedy', 'children', 'crime', 'date', 'name', 'foreign',\n",
       "       'new', 'gender', 'age', 'occupation', 'zip_code'],\n",
       "      dtype='object')"
      ]
     },
     "execution_count": 38,
     "metadata": {},
     "output_type": "execute_result"
    }
   ],
   "source": [
    "df.columns"
   ]
  },
  {
   "cell_type": "code",
   "execution_count": 39,
   "id": "modular-rental",
   "metadata": {},
   "outputs": [],
   "source": [
    "# Get X and y coluns \n",
    "cols = ['viewed_month', 'viewed_day', 'fantasy', 'animation', 'children', 'romance', 'adventure', 'drama', 'crime', 'thriller',\n",
    "       'horror', 'comedy', 'western', 'war', 'mystery', 'film-noir', 'sci-fi', 'documentary', 'action', \n",
    "        'musical', 'foreign', 'new', 'gender', 'age', 'zip_code', 'occupation', 'date']\n",
    "target = 'rating'"
   ]
  },
  {
   "cell_type": "code",
   "execution_count": 40,
   "id": "stable-vertex",
   "metadata": {},
   "outputs": [],
   "source": [
    "# to spark \n",
    "df = spark.createDataFrame(df)\n",
    "sptrain, sptest = df.randomSplit([0.8, 0.2], seed = 427471138)"
   ]
  },
  {
   "cell_type": "code",
   "execution_count": 41,
   "id": "amended-shock",
   "metadata": {},
   "outputs": [],
   "source": [
    "# back to pandas \n",
    "train = sptrain.toPandas()\n",
    "test = sptest.toPandas()"
   ]
  },
  {
   "cell_type": "markdown",
   "id": "peaceful-affiliate",
   "metadata": {},
   "source": [
    "### ------------- Random Forest "
   ]
  },
  {
   "cell_type": "raw",
   "id": "fuzzy-bangkok",
   "metadata": {},
   "source": [
    "# random forest \n",
    "rfr = RandomForestRegressor()\n",
    "rfr.fit(train[cols], train[target])\n",
    "pred = rfr.predict(test[cols])\n",
    "mean_squared_error(test[target], pred)"
   ]
  },
  {
   "cell_type": "raw",
   "id": "modular-visiting",
   "metadata": {},
   "source": [
    "pd.DataFrame(rfr.feature_importances_, index = cols).sort_values(by = 0, ascending = False)"
   ]
  },
  {
   "cell_type": "markdown",
   "id": "harmful-clerk",
   "metadata": {},
   "source": [
    "### ------------- ALS"
   ]
  },
  {
   "cell_type": "code",
   "execution_count": 65,
   "id": "widespread-zimbabwe",
   "metadata": {},
   "outputs": [],
   "source": [
    "# Create First model \n",
    "params = {'itemCol': 'movie',\n",
    "          'userCol': 'user',\n",
    "          'ratingCol': 'rating',\n",
    "          'nonnegative': True,\n",
    "          'regParam': 0.1,\n",
    "          'rank': 50 }\n",
    "\n",
    "als_model = ALS(**params)"
   ]
  },
  {
   "cell_type": "code",
   "execution_count": 66,
   "id": "proved-momentum",
   "metadata": {},
   "outputs": [],
   "source": [
    "recommender = als_model.fit(df)"
   ]
  },
  {
   "cell_type": "raw",
   "id": "other-aquarium",
   "metadata": {},
   "source": [
    "train_pred = recommender.transform(sptrain).toPandas()\n",
    "train_pred.head()"
   ]
  },
  {
   "cell_type": "code",
   "execution_count": 42,
   "id": "lyric-zealand",
   "metadata": {},
   "outputs": [],
   "source": [
    "# train_pred['prediction'] = train_pred['prediction']"
   ]
  },
  {
   "cell_type": "raw",
   "id": "medium-number",
   "metadata": {},
   "source": [
    "train_pred"
   ]
  },
  {
   "cell_type": "markdown",
   "id": "approximate-vocabulary",
   "metadata": {},
   "source": [
    "### ----- Random forest with predictions "
   ]
  },
  {
   "cell_type": "raw",
   "id": "injured-charge",
   "metadata": {},
   "source": [
    "# cols.append('prediction')\n",
    "train.columns"
   ]
  },
  {
   "cell_type": "raw",
   "id": "sustained-billion",
   "metadata": {},
   "source": [
    "# random forest \n",
    "rfr = RandomForestRegressor()\n",
    "rfr.fit(train_pred[cols], train_pred[target])"
   ]
  },
  {
   "cell_type": "raw",
   "id": "planned-stretch",
   "metadata": {},
   "source": [
    "# Create First model \n",
    "test_pred = recommender.transform(sptest).toPandas()"
   ]
  },
  {
   "cell_type": "raw",
   "id": "hired-future",
   "metadata": {},
   "source": [
    "temp = test_pred[~test_pred.prediction.isna()]"
   ]
  },
  {
   "cell_type": "raw",
   "id": "attended-healthcare",
   "metadata": {},
   "source": [
    "pred = rfr.predict(temp[cols])\n",
    "mean_squared_error(temp[target], pred)"
   ]
  },
  {
   "cell_type": "raw",
   "id": "surrounded-proof",
   "metadata": {},
   "source": [
    "pd.DataFrame(rfr.feature_importances_, index = cols).sort_values(by = 0, ascending = False)"
   ]
  },
  {
   "cell_type": "markdown",
   "id": "enabling-combination",
   "metadata": {},
   "source": [
    "# ----------------- Grid Search: Random Forest ---------------------"
   ]
  },
  {
   "cell_type": "raw",
   "id": "ready-curtis",
   "metadata": {},
   "source": [
    "from sklearn.model_selection import RandomizedSearchCV\n",
    "\n",
    "# Number of trees in random forest\n",
    "n_estimators = [int(x) for x in np.linspace(start = 200, stop = 2000, num = 10)]\n",
    "\n",
    "# Number of features to consider at every split\n",
    "max_features = ['auto', 'sqrt']\n",
    "\n",
    "# Maximum number of levels in tree\n",
    "max_depth = [int(x) for x in np.linspace(10, 110, num = 11)]\n",
    "max_depth.append(None)\n",
    "\n",
    "# Minimum number of samples required to split a node\n",
    "min_samples_split = [2, 5, 10]\n",
    "\n",
    "# Minimum number of samples required at each leaf node\n",
    "min_samples_leaf = [1, 2, 4]\n",
    "\n",
    "# Method of selecting samples for training each tree\n",
    "bootstrap = [True, False]\n",
    "\n",
    "# Create the random grid\n",
    "random_grid = {'n_estimators': n_estimators,\n",
    "               'max_features': max_features,\n",
    "               'max_depth': max_depth,\n",
    "               'min_samples_split': min_samples_split,\n",
    "               'min_samples_leaf': min_samples_leaf,\n",
    "               'bootstrap': bootstrap}\n",
    "print(random_grid)"
   ]
  },
  {
   "cell_type": "raw",
   "id": "educated-pledge",
   "metadata": {},
   "source": [
    "# Use the random grid to search for best hyperparameters\n",
    "# First create the base model to tune\n",
    "rf = RandomForestRegressor()\n",
    "\n",
    "# Random search of parameters, using 3 fold cross validation, \n",
    "# search across 100 different combinations, and use all available cores\n",
    "rf_random = RandomizedSearchCV(estimator = rf, param_distributions = random_grid, n_iter = 100, cv = 3, verbose=1, random_state=42, n_jobs = -1)\n",
    "\n",
    "# Fit the random search model\n",
    "rf_random.fit(train.loc[0:10000, cols], train.loc[0:10000, target])\n",
    "\n",
    "rf_random.best_params_"
   ]
  },
  {
   "cell_type": "raw",
   "id": "intended-undergraduate",
   "metadata": {},
   "source": [
    "# All cols\n",
    "{'n_estimators': 1800,\n",
    " 'min_samples_split': 5,\n",
    " 'min_samples_leaf': 2,\n",
    " 'max_features': 'sqrt',\n",
    " 'max_depth': 60,\n",
    " 'bootstrap': True}\n",
    " \n",
    "{'n_estimators': 400,\n",
    " 'min_samples_split': 10,\n",
    " 'min_samples_leaf': 4,\n",
    " 'max_features': 'sqrt',\n",
    " 'max_depth': 90,\n",
    " 'bootstrap': True}\n",
    " \n",
    "{'n_estimators': 1200,\n",
    " 'min_samples_split': 5,\n",
    " 'min_samples_leaf': 2,\n",
    " 'max_features': 'sqrt',\n",
    " 'max_depth': 20,\n",
    " 'bootstrap': True}\n",
    "\n",
    "# test 1: index[0:10000]\n",
    "{'n_estimators': 1600,\n",
    " 'min_samples_split': 5,\n",
    " 'min_samples_leaf': 1,\n",
    " 'max_features': 'auto',\n",
    " 'max_depth': 10,\n",
    " 'bootstrap': True}\n",
    " \n",
    " # with out prediction \n",
    " {'n_estimators': 400,\n",
    " 'min_samples_split': 10,\n",
    " 'min_samples_leaf': 4,\n",
    " 'max_features': 'sqrt',\n",
    " 'max_depth': 90,\n",
    " 'bootstrap': True}\n",
    " \n",
    " # test 2: index[10000:20000]\n",
    " {'n_estimators': 200,\n",
    " 'min_samples_split': 5,\n",
    " 'min_samples_leaf': 4,\n",
    " 'max_features': 'auto',\n",
    " 'max_depth': 10,\n",
    " 'bootstrap': True}\n",
    " \n",
    " # test 3: index[20000:30000]\n",
    " {'n_estimators': 1600,\n",
    " 'min_samples_split': 5,\n",
    " 'min_samples_leaf': 1,\n",
    " 'max_features': 'auto',\n",
    " 'max_depth': 10,\n",
    " 'bootstrap': True}"
   ]
  },
  {
   "cell_type": "markdown",
   "id": "copyrighted-trinity",
   "metadata": {},
   "source": [
    "## ----------- Train forest model with best params ------------"
   ]
  },
  {
   "cell_type": "code",
   "execution_count": 43,
   "id": "brazilian-ideal",
   "metadata": {},
   "outputs": [],
   "source": [
    "# Get X and y coluns \n",
    "cols = ['fantasy', 'animation', 'children', 'romance', 'adventure', 'drama', 'crime', 'thriller',\n",
    "       'horror', 'comedy', 'western', 'war', 'mystery', 'film-noir', 'sci-fi', 'documentary', 'action', \n",
    "        'musical', 'foreign', 'new', 'gender', 'age', 'zip_code', 'occupation', 'date']\n",
    "target = 'rating'"
   ]
  },
  {
   "cell_type": "raw",
   "id": "impressed-billion",
   "metadata": {},
   "source": [
    "# Get X and y coluns \n",
    "cols = ['viewed_month', 'viewed_day', 'new', 'gender', 'age', 'zip_code', 'occupation', 'date']\n",
    "target = 'rating'"
   ]
  },
  {
   "cell_type": "code",
   "execution_count": 44,
   "id": "earned-protocol",
   "metadata": {},
   "outputs": [
    {
     "data": {
      "text/plain": [
       "1.0343061937936957"
      ]
     },
     "execution_count": 44,
     "metadata": {},
     "output_type": "execute_result"
    }
   ],
   "source": [
    "rf_params = {'n_estimators': 400,\n",
    "             'min_samples_split': 5,\n",
    "             'min_samples_leaf': 2,\n",
    "             'max_features': 'sqrt',\n",
    "             'max_depth': 60,\n",
    "             'bootstrap': True}\n",
    "# random forest \n",
    "rfr = RandomForestRegressor(**rf_params)\n",
    "rfr.fit(train[cols], train[target])\n",
    "pred = rfr.predict(test[cols])\n",
    "mean_squared_error(test[target], pred)"
   ]
  },
  {
   "cell_type": "raw",
   "id": "authorized-first",
   "metadata": {},
   "source": [
    "MSE Tracker \n",
    "1.0562850383581217\n",
    "1.0809753061305838 -> 'occupation', 'date', \n",
    "1.0163076563273215 -> all varibales "
   ]
  },
  {
   "cell_type": "code",
   "execution_count": 45,
   "id": "national-struggle",
   "metadata": {},
   "outputs": [
    {
     "data": {
      "text/html": [
       "<div>\n",
       "<style scoped>\n",
       "    .dataframe tbody tr th:only-of-type {\n",
       "        vertical-align: middle;\n",
       "    }\n",
       "\n",
       "    .dataframe tbody tr th {\n",
       "        vertical-align: top;\n",
       "    }\n",
       "\n",
       "    .dataframe thead th {\n",
       "        text-align: right;\n",
       "    }\n",
       "</style>\n",
       "<table border=\"1\" class=\"dataframe\">\n",
       "  <thead>\n",
       "    <tr style=\"text-align: right;\">\n",
       "      <th></th>\n",
       "      <th>0</th>\n",
       "    </tr>\n",
       "  </thead>\n",
       "  <tbody>\n",
       "    <tr>\n",
       "      <th>zip_code</th>\n",
       "      <td>0.409598</td>\n",
       "    </tr>\n",
       "    <tr>\n",
       "      <th>date</th>\n",
       "      <td>0.161472</td>\n",
       "    </tr>\n",
       "    <tr>\n",
       "      <th>occupation</th>\n",
       "      <td>0.145941</td>\n",
       "    </tr>\n",
       "    <tr>\n",
       "      <th>age</th>\n",
       "      <td>0.070233</td>\n",
       "    </tr>\n",
       "    <tr>\n",
       "      <th>drama</th>\n",
       "      <td>0.022662</td>\n",
       "    </tr>\n",
       "    <tr>\n",
       "      <th>gender</th>\n",
       "      <td>0.016690</td>\n",
       "    </tr>\n",
       "    <tr>\n",
       "      <th>horror</th>\n",
       "      <td>0.015751</td>\n",
       "    </tr>\n",
       "    <tr>\n",
       "      <th>action</th>\n",
       "      <td>0.015591</td>\n",
       "    </tr>\n",
       "    <tr>\n",
       "      <th>comedy</th>\n",
       "      <td>0.013948</td>\n",
       "    </tr>\n",
       "    <tr>\n",
       "      <th>thriller</th>\n",
       "      <td>0.013351</td>\n",
       "    </tr>\n",
       "    <tr>\n",
       "      <th>sci-fi</th>\n",
       "      <td>0.013088</td>\n",
       "    </tr>\n",
       "    <tr>\n",
       "      <th>adventure</th>\n",
       "      <td>0.013079</td>\n",
       "    </tr>\n",
       "    <tr>\n",
       "      <th>romance</th>\n",
       "      <td>0.011975</td>\n",
       "    </tr>\n",
       "    <tr>\n",
       "      <th>new</th>\n",
       "      <td>0.010759</td>\n",
       "    </tr>\n",
       "    <tr>\n",
       "      <th>children</th>\n",
       "      <td>0.009534</td>\n",
       "    </tr>\n",
       "    <tr>\n",
       "      <th>war</th>\n",
       "      <td>0.009249</td>\n",
       "    </tr>\n",
       "    <tr>\n",
       "      <th>crime</th>\n",
       "      <td>0.008887</td>\n",
       "    </tr>\n",
       "    <tr>\n",
       "      <th>animation</th>\n",
       "      <td>0.006359</td>\n",
       "    </tr>\n",
       "    <tr>\n",
       "      <th>musical</th>\n",
       "      <td>0.005414</td>\n",
       "    </tr>\n",
       "    <tr>\n",
       "      <th>foreign</th>\n",
       "      <td>0.005181</td>\n",
       "    </tr>\n",
       "  </tbody>\n",
       "</table>\n",
       "</div>"
      ],
      "text/plain": [
       "                   0\n",
       "zip_code    0.409598\n",
       "date        0.161472\n",
       "occupation  0.145941\n",
       "age         0.070233\n",
       "drama       0.022662\n",
       "gender      0.016690\n",
       "horror      0.015751\n",
       "action      0.015591\n",
       "comedy      0.013948\n",
       "thriller    0.013351\n",
       "sci-fi      0.013088\n",
       "adventure   0.013079\n",
       "romance     0.011975\n",
       "new         0.010759\n",
       "children    0.009534\n",
       "war         0.009249\n",
       "crime       0.008887\n",
       "animation   0.006359\n",
       "musical     0.005414\n",
       "foreign     0.005181"
      ]
     },
     "execution_count": 45,
     "metadata": {},
     "output_type": "execute_result"
    }
   ],
   "source": [
    "pd.DataFrame(rfr.feature_importances_, index = cols).sort_values(by = 0, ascending = False)[0:20]"
   ]
  },
  {
   "cell_type": "code",
   "execution_count": 46,
   "id": "genuine-valuable",
   "metadata": {},
   "outputs": [
    {
     "data": {
      "text/html": [
       "<div>\n",
       "<style scoped>\n",
       "    .dataframe tbody tr th:only-of-type {\n",
       "        vertical-align: middle;\n",
       "    }\n",
       "\n",
       "    .dataframe tbody tr th {\n",
       "        vertical-align: top;\n",
       "    }\n",
       "\n",
       "    .dataframe thead th {\n",
       "        text-align: right;\n",
       "    }\n",
       "</style>\n",
       "<table border=\"1\" class=\"dataframe\">\n",
       "  <thead>\n",
       "    <tr style=\"text-align: right;\">\n",
       "      <th></th>\n",
       "      <th>0</th>\n",
       "    </tr>\n",
       "  </thead>\n",
       "  <tbody>\n",
       "    <tr>\n",
       "      <th>zip_code</th>\n",
       "      <td>0.409598</td>\n",
       "    </tr>\n",
       "    <tr>\n",
       "      <th>date</th>\n",
       "      <td>0.161472</td>\n",
       "    </tr>\n",
       "    <tr>\n",
       "      <th>occupation</th>\n",
       "      <td>0.145941</td>\n",
       "    </tr>\n",
       "    <tr>\n",
       "      <th>age</th>\n",
       "      <td>0.070233</td>\n",
       "    </tr>\n",
       "    <tr>\n",
       "      <th>drama</th>\n",
       "      <td>0.022662</td>\n",
       "    </tr>\n",
       "    <tr>\n",
       "      <th>gender</th>\n",
       "      <td>0.016690</td>\n",
       "    </tr>\n",
       "    <tr>\n",
       "      <th>horror</th>\n",
       "      <td>0.015751</td>\n",
       "    </tr>\n",
       "    <tr>\n",
       "      <th>action</th>\n",
       "      <td>0.015591</td>\n",
       "    </tr>\n",
       "    <tr>\n",
       "      <th>comedy</th>\n",
       "      <td>0.013948</td>\n",
       "    </tr>\n",
       "    <tr>\n",
       "      <th>thriller</th>\n",
       "      <td>0.013351</td>\n",
       "    </tr>\n",
       "  </tbody>\n",
       "</table>\n",
       "</div>"
      ],
      "text/plain": [
       "                   0\n",
       "zip_code    0.409598\n",
       "date        0.161472\n",
       "occupation  0.145941\n",
       "age         0.070233\n",
       "drama       0.022662\n",
       "gender      0.016690\n",
       "horror      0.015751\n",
       "action      0.015591\n",
       "comedy      0.013948\n",
       "thriller    0.013351"
      ]
     },
     "execution_count": 46,
     "metadata": {},
     "output_type": "execute_result"
    }
   ],
   "source": [
    "pd.DataFrame(rfr.feature_importances_, index = cols).sort_values(by = 0, ascending = False)[0:10]"
   ]
  },
  {
   "cell_type": "markdown",
   "id": "mexican-arthritis",
   "metadata": {},
   "source": [
    "# ----------- Mess with the Fake data -------------"
   ]
  },
  {
   "cell_type": "code",
   "execution_count": 47,
   "id": "pretty-translator",
   "metadata": {},
   "outputs": [
    {
     "name": "stdout",
     "output_type": "stream",
     "text": [
      "<class 'pandas.core.frame.DataFrame'>\n",
      "RangeIndex: 200209 entries, 0 to 200208\n",
      "Data columns (total 3 columns):\n",
      " #   Column        Non-Null Count   Dtype\n",
      "---  ------        --------------   -----\n",
      " 0   user          200209 non-null  int64\n",
      " 1   movie         200209 non-null  int64\n",
      " 2   actualrating  200209 non-null  int64\n",
      "dtypes: int64(3)\n",
      "memory usage: 4.6 MB\n"
     ]
    }
   ],
   "source": [
    "fake = pd.read_csv('data/fake_testing.csv')\n",
    "fake.info()"
   ]
  },
  {
   "cell_type": "code",
   "execution_count": 122,
   "id": "subtle-characterization",
   "metadata": {},
   "outputs": [
    {
     "data": {
      "text/html": [
       "<div>\n",
       "<style scoped>\n",
       "    .dataframe tbody tr th:only-of-type {\n",
       "        vertical-align: middle;\n",
       "    }\n",
       "\n",
       "    .dataframe tbody tr th {\n",
       "        vertical-align: top;\n",
       "    }\n",
       "\n",
       "    .dataframe thead th {\n",
       "        text-align: right;\n",
       "    }\n",
       "</style>\n",
       "<table border=\"1\" class=\"dataframe\">\n",
       "  <thead>\n",
       "    <tr style=\"text-align: right;\">\n",
       "      <th></th>\n",
       "      <th>user</th>\n",
       "      <th>movie</th>\n",
       "      <th>actualrating</th>\n",
       "      <th>adventure</th>\n",
       "      <th>fantasy</th>\n",
       "      <th>horror</th>\n",
       "      <th>musical</th>\n",
       "      <th>romance</th>\n",
       "      <th>sci-fi</th>\n",
       "      <th>action</th>\n",
       "      <th>...</th>\n",
       "      <th>children</th>\n",
       "      <th>crime</th>\n",
       "      <th>date</th>\n",
       "      <th>name</th>\n",
       "      <th>foreign</th>\n",
       "      <th>new</th>\n",
       "      <th>gender</th>\n",
       "      <th>age</th>\n",
       "      <th>occupation</th>\n",
       "      <th>zip_code</th>\n",
       "    </tr>\n",
       "  </thead>\n",
       "  <tbody>\n",
       "    <tr>\n",
       "      <th>0</th>\n",
       "      <td>4958</td>\n",
       "      <td>1924</td>\n",
       "      <td>4</td>\n",
       "      <td>0</td>\n",
       "      <td>0</td>\n",
       "      <td>1</td>\n",
       "      <td>0</td>\n",
       "      <td>0</td>\n",
       "      <td>1</td>\n",
       "      <td>0</td>\n",
       "      <td>...</td>\n",
       "      <td>0</td>\n",
       "      <td>0</td>\n",
       "      <td>1958</td>\n",
       "      <td>Plan 9 from Outer Space</td>\n",
       "      <td>0</td>\n",
       "      <td>0</td>\n",
       "      <td>1</td>\n",
       "      <td>18</td>\n",
       "      <td>7</td>\n",
       "      <td>55403</td>\n",
       "    </tr>\n",
       "    <tr>\n",
       "      <th>1</th>\n",
       "      <td>4958</td>\n",
       "      <td>3264</td>\n",
       "      <td>4</td>\n",
       "      <td>0</td>\n",
       "      <td>0</td>\n",
       "      <td>1</td>\n",
       "      <td>0</td>\n",
       "      <td>0</td>\n",
       "      <td>0</td>\n",
       "      <td>0</td>\n",
       "      <td>...</td>\n",
       "      <td>0</td>\n",
       "      <td>0</td>\n",
       "      <td>1992</td>\n",
       "      <td>Buffy the Vampire Slayer</td>\n",
       "      <td>0</td>\n",
       "      <td>0</td>\n",
       "      <td>1</td>\n",
       "      <td>18</td>\n",
       "      <td>7</td>\n",
       "      <td>55403</td>\n",
       "    </tr>\n",
       "    <tr>\n",
       "      <th>2</th>\n",
       "      <td>4958</td>\n",
       "      <td>2634</td>\n",
       "      <td>2</td>\n",
       "      <td>0</td>\n",
       "      <td>0</td>\n",
       "      <td>1</td>\n",
       "      <td>0</td>\n",
       "      <td>0</td>\n",
       "      <td>0</td>\n",
       "      <td>0</td>\n",
       "      <td>...</td>\n",
       "      <td>0</td>\n",
       "      <td>0</td>\n",
       "      <td>1959</td>\n",
       "      <td>Mummy, The</td>\n",
       "      <td>0</td>\n",
       "      <td>0</td>\n",
       "      <td>1</td>\n",
       "      <td>18</td>\n",
       "      <td>7</td>\n",
       "      <td>55403</td>\n",
       "    </tr>\n",
       "    <tr>\n",
       "      <th>3</th>\n",
       "      <td>4958</td>\n",
       "      <td>1407</td>\n",
       "      <td>4</td>\n",
       "      <td>0</td>\n",
       "      <td>0</td>\n",
       "      <td>1</td>\n",
       "      <td>0</td>\n",
       "      <td>0</td>\n",
       "      <td>0</td>\n",
       "      <td>0</td>\n",
       "      <td>...</td>\n",
       "      <td>0</td>\n",
       "      <td>0</td>\n",
       "      <td>1996</td>\n",
       "      <td>Scream</td>\n",
       "      <td>0</td>\n",
       "      <td>1</td>\n",
       "      <td>1</td>\n",
       "      <td>18</td>\n",
       "      <td>7</td>\n",
       "      <td>55403</td>\n",
       "    </tr>\n",
       "    <tr>\n",
       "      <th>4</th>\n",
       "      <td>4958</td>\n",
       "      <td>2399</td>\n",
       "      <td>2</td>\n",
       "      <td>1</td>\n",
       "      <td>1</td>\n",
       "      <td>0</td>\n",
       "      <td>0</td>\n",
       "      <td>0</td>\n",
       "      <td>0</td>\n",
       "      <td>0</td>\n",
       "      <td>...</td>\n",
       "      <td>1</td>\n",
       "      <td>0</td>\n",
       "      <td>1985</td>\n",
       "      <td>Santa Claus: The Movie</td>\n",
       "      <td>0</td>\n",
       "      <td>0</td>\n",
       "      <td>1</td>\n",
       "      <td>18</td>\n",
       "      <td>7</td>\n",
       "      <td>55403</td>\n",
       "    </tr>\n",
       "  </tbody>\n",
       "</table>\n",
       "<p>5 rows × 29 columns</p>\n",
       "</div>"
      ],
      "text/plain": [
       "   user  movie  actualrating  adventure  fantasy  horror  musical  romance  \\\n",
       "0  4958   1924             4          0        0       1        0        0   \n",
       "1  4958   3264             4          0        0       1        0        0   \n",
       "2  4958   2634             2          0        0       1        0        0   \n",
       "3  4958   1407             4          0        0       1        0        0   \n",
       "4  4958   2399             2          1        1       0        0        0   \n",
       "\n",
       "   sci-fi  action  ...  children  crime  date                      name  \\\n",
       "0       1       0  ...         0      0  1958   Plan 9 from Outer Space   \n",
       "1       0       0  ...         0      0  1992  Buffy the Vampire Slayer   \n",
       "2       0       0  ...         0      0  1959                Mummy, The   \n",
       "3       0       0  ...         0      0  1996                    Scream   \n",
       "4       0       0  ...         1      0  1985    Santa Claus: The Movie   \n",
       "\n",
       "   foreign  new  gender  age  occupation  zip_code  \n",
       "0        0    0       1   18           7     55403  \n",
       "1        0    0       1   18           7     55403  \n",
       "2        0    0       1   18           7     55403  \n",
       "3        0    1       1   18           7     55403  \n",
       "4        0    0       1   18           7     55403  \n",
       "\n",
       "[5 rows x 29 columns]"
      ]
     },
     "execution_count": 122,
     "metadata": {},
     "output_type": "execute_result"
    }
   ],
   "source": [
    "# -- Set up data \n",
    "tdf = pd.merge(left = fake, right = movies_df, left_on = 'movie', right_on = 'movie')\n",
    "tdf = pd.merge(left = tdf, right = users_df, left_on = 'user', right_on = 'user')\n",
    "tdf.head() "
   ]
  },
  {
   "cell_type": "markdown",
   "id": "danish-diversity",
   "metadata": {},
   "source": [
    "# -- RF Model Prediction "
   ]
  },
  {
   "cell_type": "code",
   "execution_count": 49,
   "id": "retained-impact",
   "metadata": {},
   "outputs": [
    {
     "data": {
      "text/plain": [
       "2.718510884169156"
      ]
     },
     "execution_count": 49,
     "metadata": {},
     "output_type": "execute_result"
    }
   ],
   "source": [
    "pred = rfr.predict(tdf[cols])\n",
    "mean_squared_error(tdf['actualrating'], pred)"
   ]
  },
  {
   "cell_type": "raw",
   "id": "regional-north",
   "metadata": {},
   "source": [
    "# save the model to disk\n",
    "import pickle\n",
    "filename = 'rfr_model.sav'\n",
    "pickle.dump(rfr, open(filename, 'wb'))"
   ]
  },
  {
   "cell_type": "markdown",
   "id": "developing-parallel",
   "metadata": {},
   "source": [
    "# -- ALS Model Prediction "
   ]
  },
  {
   "cell_type": "code",
   "execution_count": 143,
   "id": "maritime-estimate",
   "metadata": {},
   "outputs": [],
   "source": [
    "sfake = spark.createDataFrame(tdf)\n",
    "spred = recommender.transform(sfake).toPandas()"
   ]
  },
  {
   "cell_type": "code",
   "execution_count": 144,
   "id": "canadian-surrey",
   "metadata": {},
   "outputs": [
    {
     "data": {
      "text/html": [
       "<div>\n",
       "<style scoped>\n",
       "    .dataframe tbody tr th:only-of-type {\n",
       "        vertical-align: middle;\n",
       "    }\n",
       "\n",
       "    .dataframe tbody tr th {\n",
       "        vertical-align: top;\n",
       "    }\n",
       "\n",
       "    .dataframe thead th {\n",
       "        text-align: right;\n",
       "    }\n",
       "</style>\n",
       "<table border=\"1\" class=\"dataframe\">\n",
       "  <thead>\n",
       "    <tr style=\"text-align: right;\">\n",
       "      <th></th>\n",
       "      <th>user</th>\n",
       "      <th>movie</th>\n",
       "      <th>actualrating</th>\n",
       "      <th>adventure</th>\n",
       "      <th>fantasy</th>\n",
       "      <th>horror</th>\n",
       "      <th>musical</th>\n",
       "      <th>romance</th>\n",
       "      <th>sci-fi</th>\n",
       "      <th>action</th>\n",
       "      <th>...</th>\n",
       "      <th>crime</th>\n",
       "      <th>date</th>\n",
       "      <th>name</th>\n",
       "      <th>foreign</th>\n",
       "      <th>new</th>\n",
       "      <th>gender</th>\n",
       "      <th>age</th>\n",
       "      <th>occupation</th>\n",
       "      <th>zip_code</th>\n",
       "      <th>prediction</th>\n",
       "    </tr>\n",
       "  </thead>\n",
       "  <tbody>\n",
       "    <tr>\n",
       "      <th>0</th>\n",
       "      <td>53</td>\n",
       "      <td>148</td>\n",
       "      <td>2</td>\n",
       "      <td>0</td>\n",
       "      <td>0</td>\n",
       "      <td>0</td>\n",
       "      <td>0</td>\n",
       "      <td>0</td>\n",
       "      <td>0</td>\n",
       "      <td>0</td>\n",
       "      <td>...</td>\n",
       "      <td>0</td>\n",
       "      <td>1995</td>\n",
       "      <td>Awfully Big Adventure, An</td>\n",
       "      <td>0</td>\n",
       "      <td>1</td>\n",
       "      <td>1</td>\n",
       "      <td>25</td>\n",
       "      <td>0</td>\n",
       "      <td>96931</td>\n",
       "      <td>NaN</td>\n",
       "    </tr>\n",
       "    <tr>\n",
       "      <th>1</th>\n",
       "      <td>4169</td>\n",
       "      <td>148</td>\n",
       "      <td>4</td>\n",
       "      <td>0</td>\n",
       "      <td>0</td>\n",
       "      <td>0</td>\n",
       "      <td>0</td>\n",
       "      <td>0</td>\n",
       "      <td>0</td>\n",
       "      <td>0</td>\n",
       "      <td>...</td>\n",
       "      <td>0</td>\n",
       "      <td>1995</td>\n",
       "      <td>Awfully Big Adventure, An</td>\n",
       "      <td>0</td>\n",
       "      <td>1</td>\n",
       "      <td>1</td>\n",
       "      <td>50</td>\n",
       "      <td>0</td>\n",
       "      <td>66048</td>\n",
       "      <td>3.036357</td>\n",
       "    </tr>\n",
       "    <tr>\n",
       "      <th>2</th>\n",
       "      <td>5333</td>\n",
       "      <td>148</td>\n",
       "      <td>1</td>\n",
       "      <td>0</td>\n",
       "      <td>0</td>\n",
       "      <td>0</td>\n",
       "      <td>0</td>\n",
       "      <td>0</td>\n",
       "      <td>0</td>\n",
       "      <td>0</td>\n",
       "      <td>...</td>\n",
       "      <td>0</td>\n",
       "      <td>1995</td>\n",
       "      <td>Awfully Big Adventure, An</td>\n",
       "      <td>0</td>\n",
       "      <td>1</td>\n",
       "      <td>0</td>\n",
       "      <td>25</td>\n",
       "      <td>7</td>\n",
       "      <td>2332</td>\n",
       "      <td>2.384453</td>\n",
       "    </tr>\n",
       "    <tr>\n",
       "      <th>3</th>\n",
       "      <td>4387</td>\n",
       "      <td>148</td>\n",
       "      <td>1</td>\n",
       "      <td>0</td>\n",
       "      <td>0</td>\n",
       "      <td>0</td>\n",
       "      <td>0</td>\n",
       "      <td>0</td>\n",
       "      <td>0</td>\n",
       "      <td>0</td>\n",
       "      <td>...</td>\n",
       "      <td>0</td>\n",
       "      <td>1995</td>\n",
       "      <td>Awfully Big Adventure, An</td>\n",
       "      <td>0</td>\n",
       "      <td>1</td>\n",
       "      <td>0</td>\n",
       "      <td>18</td>\n",
       "      <td>4</td>\n",
       "      <td>63109</td>\n",
       "      <td>2.161355</td>\n",
       "    </tr>\n",
       "    <tr>\n",
       "      <th>4</th>\n",
       "      <td>840</td>\n",
       "      <td>148</td>\n",
       "      <td>1</td>\n",
       "      <td>0</td>\n",
       "      <td>0</td>\n",
       "      <td>0</td>\n",
       "      <td>0</td>\n",
       "      <td>0</td>\n",
       "      <td>0</td>\n",
       "      <td>0</td>\n",
       "      <td>...</td>\n",
       "      <td>0</td>\n",
       "      <td>1995</td>\n",
       "      <td>Awfully Big Adventure, An</td>\n",
       "      <td>0</td>\n",
       "      <td>1</td>\n",
       "      <td>0</td>\n",
       "      <td>25</td>\n",
       "      <td>3</td>\n",
       "      <td>2828</td>\n",
       "      <td>2.541073</td>\n",
       "    </tr>\n",
       "  </tbody>\n",
       "</table>\n",
       "<p>5 rows × 30 columns</p>\n",
       "</div>"
      ],
      "text/plain": [
       "   user  movie  actualrating  adventure  fantasy  horror  musical  romance  \\\n",
       "0    53    148             2          0        0       0        0        0   \n",
       "1  4169    148             4          0        0       0        0        0   \n",
       "2  5333    148             1          0        0       0        0        0   \n",
       "3  4387    148             1          0        0       0        0        0   \n",
       "4   840    148             1          0        0       0        0        0   \n",
       "\n",
       "   sci-fi  action  ...  crime  date                       name  foreign  new  \\\n",
       "0       0       0  ...      0  1995  Awfully Big Adventure, An        0    1   \n",
       "1       0       0  ...      0  1995  Awfully Big Adventure, An        0    1   \n",
       "2       0       0  ...      0  1995  Awfully Big Adventure, An        0    1   \n",
       "3       0       0  ...      0  1995  Awfully Big Adventure, An        0    1   \n",
       "4       0       0  ...      0  1995  Awfully Big Adventure, An        0    1   \n",
       "\n",
       "   gender  age  occupation  zip_code  prediction  \n",
       "0       1   25           0     96931         NaN  \n",
       "1       1   50           0     66048    3.036357  \n",
       "2       0   25           7      2332    2.384453  \n",
       "3       0   18           4     63109    2.161355  \n",
       "4       0   25           3      2828    2.541073  \n",
       "\n",
       "[5 rows x 30 columns]"
      ]
     },
     "execution_count": 144,
     "metadata": {},
     "output_type": "execute_result"
    }
   ],
   "source": [
    "spred.head()"
   ]
  },
  {
   "cell_type": "code",
   "execution_count": 145,
   "id": "vulnerable-brick",
   "metadata": {},
   "outputs": [],
   "source": [
    "mask = spred.prediction.isna()"
   ]
  },
  {
   "cell_type": "code",
   "execution_count": 146,
   "id": "comprehensive-guarantee",
   "metadata": {},
   "outputs": [
    {
     "data": {
      "text/plain": [
       "2.4213216128223043"
      ]
     },
     "execution_count": 146,
     "metadata": {},
     "output_type": "execute_result"
    }
   ],
   "source": [
    "mean_squared_error(spred.loc[~mask, 'actualrating'], spred.loc[~mask, 'prediction'])"
   ]
  },
  {
   "cell_type": "markdown",
   "id": "solid-jewelry",
   "metadata": {},
   "source": [
    "# -- RFR to predict nan values "
   ]
  },
  {
   "cell_type": "code",
   "execution_count": 147,
   "id": "prostate-boulder",
   "metadata": {},
   "outputs": [
    {
     "data": {
      "text/plain": [
       "2.763437041933251"
      ]
     },
     "execution_count": 147,
     "metadata": {},
     "output_type": "execute_result"
    }
   ],
   "source": [
    "pred = rfr.predict(spred.loc[mask, cols])\n",
    "mean_squared_error(spred.loc[mask, 'actualrating'], pred)"
   ]
  },
  {
   "cell_type": "code",
   "execution_count": 151,
   "id": "revised-mechanism",
   "metadata": {},
   "outputs": [],
   "source": [
    "# Fill in missing predictions \n",
    "spred.loc[mask, 'prediction'] = pred"
   ]
  },
  {
   "cell_type": "code",
   "execution_count": 152,
   "id": "ordered-disposal",
   "metadata": {},
   "outputs": [
    {
     "data": {
      "text/plain": [
       "2.584972570569531"
      ]
     },
     "execution_count": 152,
     "metadata": {},
     "output_type": "execute_result"
    }
   ],
   "source": [
    "mean_squared_error(spred.actualrating, spred.prediction)"
   ]
  },
  {
   "cell_type": "code",
   "execution_count": 161,
   "id": "quantitative-teens",
   "metadata": {},
   "outputs": [
    {
     "data": {
      "text/plain": [
       "1.939258474893736"
      ]
     },
     "execution_count": 161,
     "metadata": {},
     "output_type": "execute_result"
    }
   ],
   "source": [
    "mean_squared_error(spred.actualrating, spred.prediction.apply(np.floor))"
   ]
  },
  {
   "cell_type": "code",
   "execution_count": 165,
   "id": "genetic-intellectual",
   "metadata": {},
   "outputs": [],
   "source": [
    "# Make submission ready \n",
    "spred['rating'] = spred.prediction.apply(np.floor)\n",
    "spred[['user', 'movie', 'rating']].to_csv('gr_s1.csv')"
   ]
  },
  {
   "cell_type": "code",
   "execution_count": 164,
   "id": "affiliated-journey",
   "metadata": {},
   "outputs": [
    {
     "data": {
      "text/html": [
       "<div>\n",
       "<style scoped>\n",
       "    .dataframe tbody tr th:only-of-type {\n",
       "        vertical-align: middle;\n",
       "    }\n",
       "\n",
       "    .dataframe tbody tr th {\n",
       "        vertical-align: top;\n",
       "    }\n",
       "\n",
       "    .dataframe thead th {\n",
       "        text-align: right;\n",
       "    }\n",
       "</style>\n",
       "<table border=\"1\" class=\"dataframe\">\n",
       "  <thead>\n",
       "    <tr style=\"text-align: right;\">\n",
       "      <th></th>\n",
       "      <th>user</th>\n",
       "      <th>movie</th>\n",
       "      <th>rating</th>\n",
       "    </tr>\n",
       "  </thead>\n",
       "  <tbody>\n",
       "    <tr>\n",
       "      <th>0</th>\n",
       "      <td>53</td>\n",
       "      <td>148</td>\n",
       "      <td>3.0</td>\n",
       "    </tr>\n",
       "    <tr>\n",
       "      <th>1</th>\n",
       "      <td>4169</td>\n",
       "      <td>148</td>\n",
       "      <td>3.0</td>\n",
       "    </tr>\n",
       "    <tr>\n",
       "      <th>2</th>\n",
       "      <td>5333</td>\n",
       "      <td>148</td>\n",
       "      <td>2.0</td>\n",
       "    </tr>\n",
       "    <tr>\n",
       "      <th>3</th>\n",
       "      <td>4387</td>\n",
       "      <td>148</td>\n",
       "      <td>2.0</td>\n",
       "    </tr>\n",
       "    <tr>\n",
       "      <th>4</th>\n",
       "      <td>840</td>\n",
       "      <td>148</td>\n",
       "      <td>2.0</td>\n",
       "    </tr>\n",
       "    <tr>\n",
       "      <th>...</th>\n",
       "      <td>...</td>\n",
       "      <td>...</td>\n",
       "      <td>...</td>\n",
       "    </tr>\n",
       "    <tr>\n",
       "      <th>200204</th>\n",
       "      <td>3371</td>\n",
       "      <td>3910</td>\n",
       "      <td>3.0</td>\n",
       "    </tr>\n",
       "    <tr>\n",
       "      <th>200205</th>\n",
       "      <td>1851</td>\n",
       "      <td>3910</td>\n",
       "      <td>3.0</td>\n",
       "    </tr>\n",
       "    <tr>\n",
       "      <th>200206</th>\n",
       "      <td>5198</td>\n",
       "      <td>3910</td>\n",
       "      <td>3.0</td>\n",
       "    </tr>\n",
       "    <tr>\n",
       "      <th>200207</th>\n",
       "      <td>1584</td>\n",
       "      <td>3910</td>\n",
       "      <td>3.0</td>\n",
       "    </tr>\n",
       "    <tr>\n",
       "      <th>200208</th>\n",
       "      <td>1246</td>\n",
       "      <td>3910</td>\n",
       "      <td>3.0</td>\n",
       "    </tr>\n",
       "  </tbody>\n",
       "</table>\n",
       "<p>200209 rows × 3 columns</p>\n",
       "</div>"
      ],
      "text/plain": [
       "        user  movie  rating\n",
       "0         53    148     3.0\n",
       "1       4169    148     3.0\n",
       "2       5333    148     2.0\n",
       "3       4387    148     2.0\n",
       "4        840    148     2.0\n",
       "...      ...    ...     ...\n",
       "200204  3371   3910     3.0\n",
       "200205  1851   3910     3.0\n",
       "200206  5198   3910     3.0\n",
       "200207  1584   3910     3.0\n",
       "200208  1246   3910     3.0\n",
       "\n",
       "[200209 rows x 3 columns]"
      ]
     },
     "execution_count": 164,
     "metadata": {},
     "output_type": "execute_result"
    }
   ],
   "source": []
  },
  {
   "cell_type": "code",
   "execution_count": null,
   "id": "sonic-adjustment",
   "metadata": {},
   "outputs": [],
   "source": []
  }
 ],
 "metadata": {
  "kernelspec": {
   "display_name": "Python 3",
   "language": "python",
   "name": "python3"
  },
  "language_info": {
   "codemirror_mode": {
    "name": "ipython",
    "version": 3
   },
   "file_extension": ".py",
   "mimetype": "text/x-python",
   "name": "python",
   "nbconvert_exporter": "python",
   "pygments_lexer": "ipython3",
   "version": "3.8.6"
  }
 },
 "nbformat": 4,
 "nbformat_minor": 5
}
